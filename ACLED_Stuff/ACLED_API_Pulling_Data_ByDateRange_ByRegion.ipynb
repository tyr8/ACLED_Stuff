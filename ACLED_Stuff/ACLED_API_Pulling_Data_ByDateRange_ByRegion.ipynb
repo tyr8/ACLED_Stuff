{
 "cells": [
  {
   "cell_type": "markdown",
   "metadata": {
    "collapsed": true
   },
   "source": [
    "# Accessing ACLED Data Programmatically by Date_Range and/or Region\n",
    "\n",
    "ACLED API documentation: https://acleddata.com/acleddatanew/wp-content/uploads/dlm_uploads/2019/01/API-User-Guide2020.pdf\n"
   ]
  },
  {
   "cell_type": "markdown",
   "metadata": {},
   "source": [
    "### The notebook is designed to programmatically pull ACLED data without concerns of data caps or taxing the API.\n",
    "\n",
    "### The API has a standard 500 data point limit but can be expanded to encompass all the data.  This notebook does this by identifying the total data points in ACLED before any queries are done using the Regions portion of the API.  If the notebook user is interested in ACLED globally the total data point count will be used as the limit parameter. This allows notebook users to only perform one pull.\n",
    "\n",
    "### If the notebook user is interested in a specific region it also uses the region portion of the API to pull the total data point counts for that region.  The limit parameter then becomes the total count for the specified region.  \n",
    "\n",
    "### The notebook then pushes it into a pandas dataframe and provides the user an option of they want to save it off as a csv.\n"
   ]
  },
  {
   "cell_type": "markdown",
   "metadata": {},
   "source": [
    "# Info for Variables\n",
    "- start_date and end_date\n",
    "    - The time range you want to search on.  Formatting is YYYY-MM-DD \n",
    "- specific_reg (case sensitive)\n",
    "    - Yes - if you are looking at specific region\n",
    "    - No - if you aren't\n",
    "- reg\n",
    "    - If you selected Yes for spec_reg, this is the specific region you want to pull for. In reg variable you need to input the numeric code associated with the region below. \n",
    "        - 1 - Western Africa\n",
    "        - 2 - Middle Africa\n",
    "        - 3 - Eastern Africa\n",
    "        - 4 - Southern Africa\n",
    "        - 5 - Northern Africa\n",
    "        - 7 - Southern Asia\n",
    "        - 9 - South-Eastern Asia\n",
    "        - 11 - Middle East\n",
    "        - 12 - Europe\n",
    "        - 13 - Caucasus and Central Asia\n",
    "        - 14 - Central America\n",
    "        - 15 - South America\n",
    "        - 16 - Caribbean\n",
    "- csv_create\n",
    "    - Yes - if you want to save off the data\n",
    "    - No - if you don't want to save the data but keeping working\n",
    "- csv_file\n",
    "    - entire file name making sure it ends with a .csv (ex. Tiffany_test.csv)\n",
    "    \n",
    "* Note - Make sure that all variables have quotes around them (example: '12')"
   ]
  },
  {
   "cell_type": "markdown",
   "metadata": {},
   "source": [
    "# Populate Variables"
   ]
  },
  {
   "cell_type": "code",
   "execution_count": 1,
   "metadata": {
    "collapsed": true
   },
   "outputs": [],
   "source": [
    "##Variables\n",
    "start_date = '2020-03-01'\n",
    "end_date = '2020-03-14'\n",
    "specific_reg = 'Yes'\n",
    "reg = '12'\n",
    "csv_create = 'Yes'\n",
    "csv_file = 'Tiffany_test3.csv'"
   ]
  },
  {
   "cell_type": "code",
   "execution_count": 2,
   "metadata": {
    "collapsed": true
   },
   "outputs": [],
   "source": [
    "##import libraries and packages\n",
    "import requests\n",
    "import pandas as pd\n",
    "from pandas.io.json import json_normalize "
   ]
  },
  {
   "cell_type": "code",
   "execution_count": 3,
   "metadata": {},
   "outputs": [],
   "source": [
    "##access regional counts\n",
    "URL = \"https://api.acleddata.com/region/read?terms=accept\"\n",
    "r = requests.get(url = URL)\n",
    "data = r.json()\n",
    "df_reg = json_normalize(data, 'data')"
   ]
  },
  {
   "cell_type": "code",
   "execution_count": 4,
   "metadata": {},
   "outputs": [],
   "source": [
    "##get total count of events worldwide \n",
    "df_reg['count'] = df_reg['event_count'].astype(int)\n",
    "total = df_reg['count'].sum(axis=0)\n",
    "##create dictionary for region numeric code and counts of events in each region\n",
    "dictionary_lim = pd.Series(df_reg.event_count.values, index = df_reg.region).to_dict()\n"
   ]
  },
  {
   "cell_type": "code",
   "execution_count": 5,
   "metadata": {},
   "outputs": [
    {
     "name": "stdout",
     "output_type": "stream",
     "text": [
      "47591\n"
     ]
    }
   ],
   "source": [
    "##If doing a global query will limit to total global count\n",
    "##If doing a regional query will limit to total regional count\n",
    "if specific_reg == 'No':\n",
    "    lim = str(total)\n",
    "    print(lim)\n",
    "if specific_reg == 'Yes':\n",
    "    lim = dictionary_lim[reg] \n",
    "    print(lim)"
   ]
  },
  {
   "cell_type": "code",
   "execution_count": 6,
   "metadata": {},
   "outputs": [],
   "source": [
    "##Building of Parameters  - Should not need to change\n",
    "URL = 'https://api.acleddata.com/acled/read?terms=accept'\n",
    "if specific_reg == 'No':\n",
    "    PARAMS = \"&limit=\"+lim+\"&event_date=\"+start_date+\"|\"+end_date+\"&event_date_where=BETWEEN\"\n",
    "elif specific_reg == 'Yes':\n",
    "    PARAMS = \"&limit=\"+lim+\"&region=\"+reg+\"&event_date=\"+start_date+\"|\"+end_date+\"&event_date_where=BETWEEN\""
   ]
  },
  {
   "cell_type": "code",
   "execution_count": 7,
   "metadata": {
    "collapsed": true
   },
   "outputs": [],
   "source": [
    "##Request event data\n",
    "r = requests.get(url = URL, params = PARAMS)\n",
    "data_event = r.json()\n",
    "df_event = json_normalize(data_event, 'data')\n",
    "df_event"
   ]
  },
  {
   "cell_type": "code",
   "execution_count": 9,
   "metadata": {
    "collapsed": true
   },
   "outputs": [],
   "source": [
    "##option to save data off as a csv or keep working\n",
    "if csv_create == 'Yes':\n",
    "    df_event.to_csv(csv_file)\n",
    "elif csv_create == 'No':\n",
    "    print('Keep on analyzing your pandas dataframe you crazy data person!')"
   ]
  }
 ],
 "metadata": {
  "kernelspec": {
   "display_name": "Python 3",
   "language": "python",
   "name": "python3"
  },
  "language_info": {
   "codemirror_mode": {
    "name": "ipython",
    "version": 3
   },
   "file_extension": ".py",
   "mimetype": "text/x-python",
   "name": "python",
   "nbconvert_exporter": "python",
   "pygments_lexer": "ipython3",
   "version": "3.6.6"
  }
 },
 "nbformat": 4,
 "nbformat_minor": 2
}
