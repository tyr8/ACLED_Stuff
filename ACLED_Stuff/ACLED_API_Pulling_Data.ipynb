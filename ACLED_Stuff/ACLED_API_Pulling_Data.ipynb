{
 "cells": [
  {
   "cell_type": "markdown",
   "metadata": {
    "collapsed": true
   },
   "source": [
    "# Accessing ACLED data programmatically\n",
    "\n",
    "ACLED API documentation: https://acleddata.com/acleddatanew/wp-content/uploads/dlm_uploads/2019/01/API-User-Guide2020.pdf\n"
   ]
  },
  {
   "cell_type": "markdown",
   "metadata": {},
   "source": [
    "### The notebook is designed to programmatically pull ACLED data without concerns of data caps or taxing the API.\n",
    "\n",
    "### The API has a standard 500 data point limit but can be expanded to encompass all the data.  This notebook does this by identifying the total data points in ACLED before any queries are done using the Regions portion of the API.  If the notebook user is interested in ACLED globally the total data point count will be used as the limit parameter. This allows notebook users to only perform one pull.\n",
    "\n",
    "### If the notebook user is interested in a specific region it also uses the region portion of the API to pull the total data point counts for that region.  The limit parameter then becomes the total count for the specified region.  \n",
    "\n",
    "### The notebook then pushes it into a pandas dataframe and provides the user an option of they want to save it off as a csv.\n"
   ]
  },
  {
   "cell_type": "markdown",
   "metadata": {},
   "source": [
    "# Info for Variables\n",
    "## start_date and end_date\n",
    "The time range you want to search on.  Formatting is YYYY-MM-DD \n",
    "## spec_reg (case sensitive)\n",
    "Yes - if you are looking at specific region\n",
    "No - if you aren't\n",
    "## reg\n",
    "If you selected Yes for spec_reg, this is the specific region you want to pull for. In reg variable you need to input the numeric code associated with the region below. \n",
    "\n",
    "1 - Western Africa\n",
    "\n",
    "2 - Middle Africa\n",
    "\n",
    "3 - Eastern Africa\n",
    "\n",
    "4 - Southern Africa\n",
    "\n",
    "5 - Northern Africa\n",
    "\n",
    "7 - Southern Asia\n",
    "\n",
    "9 - South-Eastern Asia\n",
    "\n",
    "11 - Middle East\n",
    "\n",
    "12 - Europe\n",
    "\n",
    "13 - Caucasus and Central Asia\n",
    "\n",
    "14 - Central America\n",
    "\n",
    "15 - South America\n",
    "\n",
    "16 - Caribbean\n",
    "\n"
   ]
  },
  {
   "cell_type": "code",
   "execution_count": 2,
   "metadata": {
    "collapsed": true
   },
   "outputs": [],
   "source": [
    "##Variables\n",
    "start_date = '2020-03-01'\n",
    "end_date = '2020-03-14'\n",
    "spec_reg = 'No'\n",
    "reg = '12'\n",
    "csv_create = 'Yes'\n",
    "csv_file = 'Tiffany_test.csv'"
   ]
  },
  {
   "cell_type": "code",
   "execution_count": 4,
   "metadata": {
    "collapsed": true
   },
   "outputs": [],
   "source": [
    "import requests\n",
    "import pandas as pd\n",
    "from pandas.io.json import json_normalize \n"
   ]
  },
  {
   "cell_type": "code",
   "execution_count": 5,
   "metadata": {},
   "outputs": [],
   "source": [
    "URL = \"https://api.acleddata.com/region/read?terms=accept\"\n",
    "r = requests.get(url = URL)\n",
    "data = r.json()\n",
    "df = json_normalize(data, 'data')"
   ]
  },
  {
   "cell_type": "code",
   "execution_count": 6,
   "metadata": {},
   "outputs": [
    {
     "data": {
      "text/plain": [
       "{'1': '36691',\n",
       " '11': '192603',\n",
       " '12': '47591',\n",
       " '13': '63454',\n",
       " '14': '20549',\n",
       " '15': '26732',\n",
       " '16': '1479',\n",
       " '2': '28871',\n",
       " '3': '68768',\n",
       " '4': '20848',\n",
       " '5': '49937',\n",
       " '7': '155074',\n",
       " '9': '34415'}"
      ]
     },
     "execution_count": 6,
     "metadata": {},
     "output_type": "execute_result"
    }
   ],
   "source": [
    "df['count'] = df['event_count'].astype(int)\n",
    "total = df['count'].sum(axis=0)\n",
    "dict_lim = pd.Series(df.event_count.values, index = df.region).to_dict()\n",
    "dict_lim"
   ]
  },
  {
   "cell_type": "code",
   "execution_count": 7,
   "metadata": {},
   "outputs": [
    {
     "name": "stdout",
     "output_type": "stream",
     "text": [
      "747012\n"
     ]
    }
   ],
   "source": [
    "if spec_reg == 'No':\n",
    "    lim = str(total)\n",
    "    print(lim)\n",
    "if spec_reg == 'Yes':\n",
    "    lim = dict_lim[reg] \n",
    "    print(lim)"
   ]
  },
  {
   "cell_type": "code",
   "execution_count": 8,
   "metadata": {},
   "outputs": [],
   "source": [
    "##Building of Parameters  - Should not need to change\n",
    "URL = 'https://api.acleddata.com/acled/read?terms=accept'\n",
    "if spec_reg == 'No':\n",
    "    PARAMS = \"&limit=\"+lim+\"&event_date=\"+start_date+\"|\"+end_date+\"&event_date_where=BETWEEN\"\n",
    "elif spec_reg == 'Yes':\n",
    "    PARAMS = \"&limit=\"+lim+\"&region=\"+reg+\"&event_date=\"+start_date+\"|\"+end_date+\"&event_date_where=BETWEEN\""
   ]
  },
  {
   "cell_type": "code",
   "execution_count": 9,
   "metadata": {
    "collapsed": true
   },
   "outputs": [],
   "source": [
    "##Request for data\n",
    "r = requests.get(url = URL, params = PARAMS)\n",
    "data = r.json()\n"
   ]
  },
  {
   "cell_type": "code",
   "execution_count": 10,
   "metadata": {},
   "outputs": [
    {
     "ename": "SyntaxError",
     "evalue": "invalid syntax (<ipython-input-10-09a1f5e56ace>, line 4)",
     "output_type": "error",
     "traceback": [
      "\u001b[1;36m  File \u001b[1;32m\"<ipython-input-10-09a1f5e56ace>\"\u001b[1;36m, line \u001b[1;32m4\u001b[0m\n\u001b[1;33m    elif:\u001b[0m\n\u001b[1;37m        ^\u001b[0m\n\u001b[1;31mSyntaxError\u001b[0m\u001b[1;31m:\u001b[0m invalid syntax\n"
     ]
    }
   ],
   "source": [
    "df = json_normalize(data, 'data')\n",
    "if csv_create == 'Yes':\n",
    "    df.to_csv(csv_file)\n",
    "elif:\n",
    "    print('Keep on analyzing your pandas dataframe you crazy data person!')"
   ]
  },
  {
   "cell_type": "code",
   "execution_count": null,
   "metadata": {
    "collapsed": true
   },
   "outputs": [],
   "source": []
  }
 ],
 "metadata": {
  "kernelspec": {
   "display_name": "Python 3",
   "language": "python",
   "name": "python3"
  },
  "language_info": {
   "codemirror_mode": {
    "name": "ipython",
    "version": 3
   },
   "file_extension": ".py",
   "mimetype": "text/x-python",
   "name": "python",
   "nbconvert_exporter": "python",
   "pygments_lexer": "ipython3",
   "version": "3.6.6"
  }
 },
 "nbformat": 4,
 "nbformat_minor": 2
}
