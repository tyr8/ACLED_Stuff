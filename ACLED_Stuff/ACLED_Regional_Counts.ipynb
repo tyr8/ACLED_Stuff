{
 "cells": [
  {
   "cell_type": "markdown",
   "metadata": {
    "collapsed": true
   },
   "source": [
    "# This notebook is to pull ACLED data"
   ]
  },
  {
   "cell_type": "code",
   "execution_count": null,
   "metadata": {
    "collapsed": true
   },
   "outputs": [],
   "source": [
    "##ACLED API documentation: https://acleddata.com/acleddatanew/wp-content/uploads/dlm_uploads/2019/01/API-User-Guide2020.pdf\n"
   ]
  },
  {
   "cell_type": "markdown",
   "metadata": {
    "collapsed": true
   },
   "source": [
    "## Libraries"
   ]
  },
  {
   "cell_type": "code",
   "execution_count": 3,
   "metadata": {
    "collapsed": true
   },
   "outputs": [],
   "source": [
    "import requests\n",
    "import pandas as pd\n",
    "from pandas.io.json import json_normalize \n"
   ]
  },
  {
   "cell_type": "markdown",
   "metadata": {},
   "source": [
    "## Info of counts on by ACLED region and total count"
   ]
  },
  {
   "cell_type": "markdown",
   "metadata": {},
   "source": [
    "### Overall Counts"
   ]
  },
  {
   "cell_type": "code",
   "execution_count": 139,
   "metadata": {
    "collapsed": true
   },
   "outputs": [],
   "source": [
    "##Make request\n",
    "URL = \"https://api.acleddata.com/region/read?terms=accept\"\n",
    "r = requests.get(url = URL)\n",
    "data = r.json()"
   ]
  },
  {
   "cell_type": "code",
   "execution_count": 140,
   "metadata": {},
   "outputs": [
    {
     "data": {
      "text/html": [
       "<div>\n",
       "<style scoped>\n",
       "    .dataframe tbody tr th:only-of-type {\n",
       "        vertical-align: middle;\n",
       "    }\n",
       "\n",
       "    .dataframe tbody tr th {\n",
       "        vertical-align: top;\n",
       "    }\n",
       "\n",
       "    .dataframe thead th {\n",
       "        text-align: right;\n",
       "    }\n",
       "</style>\n",
       "<table border=\"1\" class=\"dataframe\">\n",
       "  <thead>\n",
       "    <tr style=\"text-align: right;\">\n",
       "      <th></th>\n",
       "      <th>event_count</th>\n",
       "      <th>first_event_date</th>\n",
       "      <th>last_event_date</th>\n",
       "      <th>region</th>\n",
       "      <th>region_name</th>\n",
       "    </tr>\n",
       "  </thead>\n",
       "  <tbody>\n",
       "    <tr>\n",
       "      <th>0</th>\n",
       "      <td>36691</td>\n",
       "      <td>1997-01-01</td>\n",
       "      <td>2020-03-14</td>\n",
       "      <td>1</td>\n",
       "      <td>Western Africa</td>\n",
       "    </tr>\n",
       "    <tr>\n",
       "      <th>1</th>\n",
       "      <td>28871</td>\n",
       "      <td>1997-01-01</td>\n",
       "      <td>2020-03-14</td>\n",
       "      <td>2</td>\n",
       "      <td>Middle Africa</td>\n",
       "    </tr>\n",
       "    <tr>\n",
       "      <th>2</th>\n",
       "      <td>68768</td>\n",
       "      <td>1997-01-01</td>\n",
       "      <td>2020-03-14</td>\n",
       "      <td>3</td>\n",
       "      <td>Eastern Africa</td>\n",
       "    </tr>\n",
       "    <tr>\n",
       "      <th>3</th>\n",
       "      <td>20848</td>\n",
       "      <td>1997-01-05</td>\n",
       "      <td>2020-03-13</td>\n",
       "      <td>4</td>\n",
       "      <td>Southern Africa</td>\n",
       "    </tr>\n",
       "    <tr>\n",
       "      <th>4</th>\n",
       "      <td>49937</td>\n",
       "      <td>1997-01-01</td>\n",
       "      <td>2020-03-14</td>\n",
       "      <td>5</td>\n",
       "      <td>Northern Africa</td>\n",
       "    </tr>\n",
       "    <tr>\n",
       "      <th>5</th>\n",
       "      <td>155074</td>\n",
       "      <td>2010-01-01</td>\n",
       "      <td>2020-03-14</td>\n",
       "      <td>7</td>\n",
       "      <td>Southern Asia</td>\n",
       "    </tr>\n",
       "    <tr>\n",
       "      <th>6</th>\n",
       "      <td>34415</td>\n",
       "      <td>2010-01-01</td>\n",
       "      <td>2020-03-14</td>\n",
       "      <td>9</td>\n",
       "      <td>South-Eastern Asia</td>\n",
       "    </tr>\n",
       "    <tr>\n",
       "      <th>7</th>\n",
       "      <td>192603</td>\n",
       "      <td>2015-01-01</td>\n",
       "      <td>2020-03-14</td>\n",
       "      <td>11</td>\n",
       "      <td>Middle East</td>\n",
       "    </tr>\n",
       "    <tr>\n",
       "      <th>8</th>\n",
       "      <td>47591</td>\n",
       "      <td>2018-01-01</td>\n",
       "      <td>2020-03-14</td>\n",
       "      <td>12</td>\n",
       "      <td>Europe</td>\n",
       "    </tr>\n",
       "    <tr>\n",
       "      <th>9</th>\n",
       "      <td>63454</td>\n",
       "      <td>2017-01-01</td>\n",
       "      <td>2020-03-14</td>\n",
       "      <td>13</td>\n",
       "      <td>Caucasus and Central Asia</td>\n",
       "    </tr>\n",
       "    <tr>\n",
       "      <th>10</th>\n",
       "      <td>20549</td>\n",
       "      <td>2018-12-24</td>\n",
       "      <td>2020-03-14</td>\n",
       "      <td>14</td>\n",
       "      <td>Central America</td>\n",
       "    </tr>\n",
       "    <tr>\n",
       "      <th>11</th>\n",
       "      <td>26732</td>\n",
       "      <td>2019-01-01</td>\n",
       "      <td>2020-03-14</td>\n",
       "      <td>15</td>\n",
       "      <td>South America</td>\n",
       "    </tr>\n",
       "    <tr>\n",
       "      <th>12</th>\n",
       "      <td>1479</td>\n",
       "      <td>2019-01-01</td>\n",
       "      <td>2020-03-13</td>\n",
       "      <td>16</td>\n",
       "      <td>Caribbean</td>\n",
       "    </tr>\n",
       "  </tbody>\n",
       "</table>\n",
       "</div>"
      ],
      "text/plain": [
       "   event_count first_event_date last_event_date region  \\\n",
       "0        36691       1997-01-01      2020-03-14      1   \n",
       "1        28871       1997-01-01      2020-03-14      2   \n",
       "2        68768       1997-01-01      2020-03-14      3   \n",
       "3        20848       1997-01-05      2020-03-13      4   \n",
       "4        49937       1997-01-01      2020-03-14      5   \n",
       "5       155074       2010-01-01      2020-03-14      7   \n",
       "6        34415       2010-01-01      2020-03-14      9   \n",
       "7       192603       2015-01-01      2020-03-14     11   \n",
       "8        47591       2018-01-01      2020-03-14     12   \n",
       "9        63454       2017-01-01      2020-03-14     13   \n",
       "10       20549       2018-12-24      2020-03-14     14   \n",
       "11       26732       2019-01-01      2020-03-14     15   \n",
       "12        1479       2019-01-01      2020-03-13     16   \n",
       "\n",
       "                  region_name  \n",
       "0              Western Africa  \n",
       "1               Middle Africa  \n",
       "2              Eastern Africa  \n",
       "3             Southern Africa  \n",
       "4             Northern Africa  \n",
       "5               Southern Asia  \n",
       "6          South-Eastern Asia  \n",
       "7                 Middle East  \n",
       "8                      Europe  \n",
       "9   Caucasus and Central Asia  \n",
       "10            Central America  \n",
       "11              South America  \n",
       "12                  Caribbean  "
      ]
     },
     "execution_count": 140,
     "metadata": {},
     "output_type": "execute_result"
    }
   ],
   "source": [
    "##Normalize Json\n",
    "df = json_normalize(data, 'data')\n",
    "df"
   ]
  },
  {
   "cell_type": "code",
   "execution_count": 219,
   "metadata": {
    "collapsed": true
   },
   "outputs": [],
   "source": [
    "df.to_csv('regions.csv')"
   ]
  },
  {
   "cell_type": "code",
   "execution_count": 164,
   "metadata": {
    "scrolled": true
   },
   "outputs": [
    {
     "name": "stdout",
     "output_type": "stream",
     "text": [
      "747012\n"
     ]
    }
   ],
   "source": [
    "df['count'] = df['event_count'].astype(int)\n",
    "total = df['count'].sum(axis=0)\n",
    "print(total)"
   ]
  }
 ],
 "metadata": {
  "kernelspec": {
   "display_name": "Python 3",
   "language": "python",
   "name": "python3"
  },
  "language_info": {
   "codemirror_mode": {
    "name": "ipython",
    "version": 3
   },
   "file_extension": ".py",
   "mimetype": "text/x-python",
   "name": "python",
   "nbconvert_exporter": "python",
   "pygments_lexer": "ipython3",
   "version": "3.6.6"
  }
 },
 "nbformat": 4,
 "nbformat_minor": 2
}
